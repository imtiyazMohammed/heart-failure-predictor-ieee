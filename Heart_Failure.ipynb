{
  "cells": [
    {
      "cell_type": "code",
      "source": [
        "from google.colab import drive\n",
        "drive.mount('/content/drive')"
      ],
      "metadata": {
        "colab": {
          "base_uri": "https://localhost:8080/"
        },
        "id": "E-c3weywO5_k",
        "outputId": "5508929b-b713-4125-b4db-ad1921b1a878"
      },
      "id": "E-c3weywO5_k",
      "execution_count": 1,
      "outputs": [
        {
          "output_type": "stream",
          "name": "stdout",
          "text": [
            "Mounted at /content/drive\n"
          ]
        }
      ]
    },
    {
      "cell_type": "code",
      "execution_count": 3,
      "id": "47111c0c",
      "metadata": {
        "id": "47111c0c"
      },
      "outputs": [],
      "source": [
        "# Import the required tools\n",
        "\n",
        "import pandas as pd\n",
        "import numpy as np\n",
        "import matplotlib.pyplot as plt\n",
        "%matplotlib inline\n",
        "import seaborn as sns\n",
        " \n",
        "from sklearn.ensemble import RandomForestClassifier\n",
        "from sklearn.linear_model import LogisticRegression\n",
        "from sklearn.neighbors import KNeighborsClassifier\n",
        "from sklearn.model_selection import train_test_split\n",
        "from sklearn.model_selection import RandomizedSearchCV, GridSearchCV\n",
        "from sklearn.metrics import confusion_matrix,classification_report\n",
        "from sklearn.metrics import precision_score,recall_score,f1_score\n",
        "from sklearn.metrics import plot_roc_curve"
      ]
    },
    {
      "cell_type": "code",
      "execution_count": 4,
      "id": "898f2de1",
      "metadata": {
        "colab": {
          "base_uri": "https://localhost:8080/",
          "height": 444
        },
        "id": "898f2de1",
        "outputId": "a0fcf47e-d750-4f15-ca76-007391e0f89c"
      },
      "outputs": [
        {
          "output_type": "execute_result",
          "data": {
            "text/html": [
              "<div>\n",
              "<style scoped>\n",
              "    .dataframe tbody tr th:only-of-type {\n",
              "        vertical-align: middle;\n",
              "    }\n",
              "\n",
              "    .dataframe tbody tr th {\n",
              "        vertical-align: top;\n",
              "    }\n",
              "\n",
              "    .dataframe thead th {\n",
              "        text-align: right;\n",
              "    }\n",
              "</style>\n",
              "<table border=\"1\" class=\"dataframe\">\n",
              "  <thead>\n",
              "    <tr style=\"text-align: right;\">\n",
              "      <th></th>\n",
              "      <th>Age</th>\n",
              "      <th>Sex</th>\n",
              "      <th>ChestPainType</th>\n",
              "      <th>RestingBP</th>\n",
              "      <th>Cholesterol</th>\n",
              "      <th>FastingBS</th>\n",
              "      <th>RestingECG</th>\n",
              "      <th>MaxHR</th>\n",
              "      <th>ExerciseAngina</th>\n",
              "      <th>Oldpeak</th>\n",
              "      <th>ST_Slope</th>\n",
              "      <th>HeartDisease</th>\n",
              "    </tr>\n",
              "  </thead>\n",
              "  <tbody>\n",
              "    <tr>\n",
              "      <th>0</th>\n",
              "      <td>40</td>\n",
              "      <td>M</td>\n",
              "      <td>ATA</td>\n",
              "      <td>140</td>\n",
              "      <td>289</td>\n",
              "      <td>0</td>\n",
              "      <td>Normal</td>\n",
              "      <td>172</td>\n",
              "      <td>N</td>\n",
              "      <td>0.0</td>\n",
              "      <td>Up</td>\n",
              "      <td>0</td>\n",
              "    </tr>\n",
              "    <tr>\n",
              "      <th>1</th>\n",
              "      <td>49</td>\n",
              "      <td>F</td>\n",
              "      <td>NAP</td>\n",
              "      <td>160</td>\n",
              "      <td>180</td>\n",
              "      <td>0</td>\n",
              "      <td>Normal</td>\n",
              "      <td>156</td>\n",
              "      <td>N</td>\n",
              "      <td>1.0</td>\n",
              "      <td>Flat</td>\n",
              "      <td>1</td>\n",
              "    </tr>\n",
              "    <tr>\n",
              "      <th>2</th>\n",
              "      <td>37</td>\n",
              "      <td>M</td>\n",
              "      <td>ATA</td>\n",
              "      <td>130</td>\n",
              "      <td>283</td>\n",
              "      <td>0</td>\n",
              "      <td>ST</td>\n",
              "      <td>98</td>\n",
              "      <td>N</td>\n",
              "      <td>0.0</td>\n",
              "      <td>Up</td>\n",
              "      <td>0</td>\n",
              "    </tr>\n",
              "    <tr>\n",
              "      <th>3</th>\n",
              "      <td>48</td>\n",
              "      <td>F</td>\n",
              "      <td>ASY</td>\n",
              "      <td>138</td>\n",
              "      <td>214</td>\n",
              "      <td>0</td>\n",
              "      <td>Normal</td>\n",
              "      <td>108</td>\n",
              "      <td>Y</td>\n",
              "      <td>1.5</td>\n",
              "      <td>Flat</td>\n",
              "      <td>1</td>\n",
              "    </tr>\n",
              "    <tr>\n",
              "      <th>4</th>\n",
              "      <td>54</td>\n",
              "      <td>M</td>\n",
              "      <td>NAP</td>\n",
              "      <td>150</td>\n",
              "      <td>195</td>\n",
              "      <td>0</td>\n",
              "      <td>Normal</td>\n",
              "      <td>122</td>\n",
              "      <td>N</td>\n",
              "      <td>0.0</td>\n",
              "      <td>Up</td>\n",
              "      <td>0</td>\n",
              "    </tr>\n",
              "    <tr>\n",
              "      <th>...</th>\n",
              "      <td>...</td>\n",
              "      <td>...</td>\n",
              "      <td>...</td>\n",
              "      <td>...</td>\n",
              "      <td>...</td>\n",
              "      <td>...</td>\n",
              "      <td>...</td>\n",
              "      <td>...</td>\n",
              "      <td>...</td>\n",
              "      <td>...</td>\n",
              "      <td>...</td>\n",
              "      <td>...</td>\n",
              "    </tr>\n",
              "    <tr>\n",
              "      <th>913</th>\n",
              "      <td>45</td>\n",
              "      <td>M</td>\n",
              "      <td>TA</td>\n",
              "      <td>110</td>\n",
              "      <td>264</td>\n",
              "      <td>0</td>\n",
              "      <td>Normal</td>\n",
              "      <td>132</td>\n",
              "      <td>N</td>\n",
              "      <td>1.2</td>\n",
              "      <td>Flat</td>\n",
              "      <td>1</td>\n",
              "    </tr>\n",
              "    <tr>\n",
              "      <th>914</th>\n",
              "      <td>68</td>\n",
              "      <td>M</td>\n",
              "      <td>ASY</td>\n",
              "      <td>144</td>\n",
              "      <td>193</td>\n",
              "      <td>1</td>\n",
              "      <td>Normal</td>\n",
              "      <td>141</td>\n",
              "      <td>N</td>\n",
              "      <td>3.4</td>\n",
              "      <td>Flat</td>\n",
              "      <td>1</td>\n",
              "    </tr>\n",
              "    <tr>\n",
              "      <th>915</th>\n",
              "      <td>57</td>\n",
              "      <td>M</td>\n",
              "      <td>ASY</td>\n",
              "      <td>130</td>\n",
              "      <td>131</td>\n",
              "      <td>0</td>\n",
              "      <td>Normal</td>\n",
              "      <td>115</td>\n",
              "      <td>Y</td>\n",
              "      <td>1.2</td>\n",
              "      <td>Flat</td>\n",
              "      <td>1</td>\n",
              "    </tr>\n",
              "    <tr>\n",
              "      <th>916</th>\n",
              "      <td>57</td>\n",
              "      <td>F</td>\n",
              "      <td>ATA</td>\n",
              "      <td>130</td>\n",
              "      <td>236</td>\n",
              "      <td>0</td>\n",
              "      <td>LVH</td>\n",
              "      <td>174</td>\n",
              "      <td>N</td>\n",
              "      <td>0.0</td>\n",
              "      <td>Flat</td>\n",
              "      <td>1</td>\n",
              "    </tr>\n",
              "    <tr>\n",
              "      <th>917</th>\n",
              "      <td>38</td>\n",
              "      <td>M</td>\n",
              "      <td>NAP</td>\n",
              "      <td>138</td>\n",
              "      <td>175</td>\n",
              "      <td>0</td>\n",
              "      <td>Normal</td>\n",
              "      <td>173</td>\n",
              "      <td>N</td>\n",
              "      <td>0.0</td>\n",
              "      <td>Up</td>\n",
              "      <td>0</td>\n",
              "    </tr>\n",
              "  </tbody>\n",
              "</table>\n",
              "<p>918 rows × 12 columns</p>\n",
              "</div>"
            ],
            "text/plain": [
              "     Age Sex ChestPainType  ...  Oldpeak  ST_Slope  HeartDisease\n",
              "0     40   M           ATA  ...      0.0        Up             0\n",
              "1     49   F           NAP  ...      1.0      Flat             1\n",
              "2     37   M           ATA  ...      0.0        Up             0\n",
              "3     48   F           ASY  ...      1.5      Flat             1\n",
              "4     54   M           NAP  ...      0.0        Up             0\n",
              "..   ...  ..           ...  ...      ...       ...           ...\n",
              "913   45   M            TA  ...      1.2      Flat             1\n",
              "914   68   M           ASY  ...      3.4      Flat             1\n",
              "915   57   M           ASY  ...      1.2      Flat             1\n",
              "916   57   F           ATA  ...      0.0      Flat             1\n",
              "917   38   M           NAP  ...      0.0        Up             0\n",
              "\n",
              "[918 rows x 12 columns]"
            ]
          },
          "metadata": {},
          "execution_count": 4
        }
      ],
      "source": [
        "# Load the data\n",
        "df = pd.read_csv(\"./drive/MyDrive/heart.csv\")\n",
        "df"
      ]
    },
    {
      "cell_type": "code",
      "execution_count": 5,
      "id": "8dd38fbe",
      "metadata": {
        "colab": {
          "base_uri": "https://localhost:8080/"
        },
        "id": "8dd38fbe",
        "outputId": "10ad289d-fe92-4315-e8d4-bfb80fd30b6c"
      },
      "outputs": [
        {
          "output_type": "execute_result",
          "data": {
            "text/plain": [
              "(918, 12)"
            ]
          },
          "metadata": {},
          "execution_count": 5
        }
      ],
      "source": [
        "df.shape"
      ]
    },
    {
      "cell_type": "code",
      "execution_count": 6,
      "id": "5c6d8eca",
      "metadata": {
        "colab": {
          "base_uri": "https://localhost:8080/"
        },
        "id": "5c6d8eca",
        "outputId": "414dbad4-fbd9-4abc-ab1f-a12ccbe880bf"
      },
      "outputs": [
        {
          "output_type": "execute_result",
          "data": {
            "text/plain": [
              "1    508\n",
              "0    410\n",
              "Name: HeartDisease, dtype: int64"
            ]
          },
          "metadata": {},
          "execution_count": 6
        }
      ],
      "source": [
        "df[\"HeartDisease\"].value_counts()"
      ]
    },
    {
      "cell_type": "code",
      "execution_count": 7,
      "id": "dfda2448",
      "metadata": {
        "colab": {
          "base_uri": "https://localhost:8080/",
          "height": 262
        },
        "id": "dfda2448",
        "outputId": "11241ce6-c27b-4e30-8617-ea4c8616073e"
      },
      "outputs": [
        {
          "output_type": "display_data",
          "data": {
            "image/png": "[encoded data removed]",
            "text/plain": [
              "<Figure size 432x288 with 1 Axes>"
            ]
          },
          "metadata": {
            "needs_background": "light"
          }
        }
      ],
      "source": [
        "df[\"HeartDisease\"].value_counts().plot(kind=\"bar\",color=[\"salmon\",\"lightblue\"]);"
      ]
    },
    {
      "cell_type": "code",
      "execution_count": 8,
      "id": "74f77f40",
      "metadata": {
        "colab": {
          "base_uri": "https://localhost:8080/"
        },
        "id": "74f77f40",
        "outputId": "7385b5ec-1534-4b1f-ea2e-eea9f7af5bfc"
      },
      "outputs": [
        {
          "output_type": "stream",
          "name": "stdout",
          "text": [
            "<class 'pandas.core.frame.DataFrame'>\n",
            "RangeIndex: 918 entries, 0 to 917\n",
            "Data columns (total 12 columns):\n",
            " #   Column          Non-Null Count  Dtype  \n",
            "---  ------          --------------  -----  \n",
            " 0   Age             918 non-null    int64  \n",
            " 1   Sex             918 non-null    object \n",
            " 2   ChestPainType   918 non-null    object \n",
            " 3   RestingBP       918 non-null    int64  \n",
            " 4   Cholesterol     918 non-null    int64  \n",
            " 5   FastingBS       918 non-null    int64  \n",
            " 6   RestingECG      918 non-null    object \n",
            " 7   MaxHR           918 non-null    int64  \n",
            " 8   ExerciseAngina  918 non-null    object \n",
            " 9   Oldpeak         918 non-null    float64\n",
            " 10  ST_Slope        918 non-null    object \n",
            " 11  HeartDisease    918 non-null    int64  \n",
            "dtypes: float64(1), int64(6), object(5)\n",
            "memory usage: 86.2+ KB\n"
          ]
        }
      ],
      "source": [
        "df.info()"
      ]
    },
    {
      "cell_type": "code",
      "execution_count": 9,
      "id": "9a47df8a",
      "metadata": {
        "colab": {
          "base_uri": "https://localhost:8080/"
        },
        "id": "9a47df8a",
        "outputId": "95c3beeb-c84a-4b0c-844d-d7c5d3a3b0f4"
      },
      "outputs": [
        {
          "output_type": "execute_result",
          "data": {
            "text/plain": [
              "Age                 int64\n",
              "Sex                object\n",
              "ChestPainType      object\n",
              "RestingBP           int64\n",
              "Cholesterol         int64\n",
              "FastingBS           int64\n",
              "RestingECG         object\n",
              "MaxHR               int64\n",
              "ExerciseAngina     object\n",
              "Oldpeak           float64\n",
              "ST_Slope           object\n",
              "HeartDisease        int64\n",
              "dtype: object"
            ]
          },
          "metadata": {},
          "execution_count": 9
        }
      ],
      "source": [
        "df.dtypes"
      ]
    },
    {
      "cell_type": "code",
      "execution_count": 10,
      "id": "06b78074",
      "metadata": {
        "colab": {
          "base_uri": "https://localhost:8080/"
        },
        "id": "06b78074",
        "outputId": "ce73e0a8-7ff7-446a-ba9a-74c7360180ea"
      },
      "outputs": [
        {
          "output_type": "execute_result",
          "data": {
            "text/plain": [
              "True"
            ]
          },
          "metadata": {},
          "execution_count": 10
        }
      ],
      "source": [
        "pd.api.types.is_string_dtype(df[\"Sex\"])"
      ]
    },
    {
      "cell_type": "code",
      "execution_count": 11,
      "id": "b38af269",
      "metadata": {
        "scrolled": true,
        "colab": {
          "base_uri": "https://localhost:8080/"
        },
        "id": "b38af269",
        "outputId": "55c64015-957a-4e03-d977-80fbcb37a3e0"
      },
      "outputs": [
        {
          "output_type": "stream",
          "name": "stdout",
          "text": [
            "Sex\n",
            "ChestPainType\n",
            "RestingECG\n",
            "ExerciseAngina\n",
            "ST_Slope\n"
          ]
        }
      ],
      "source": [
        "for labels,columns in df.items():\n",
        "    if pd.api.types.is_string_dtype(columns):\n",
        "        print(labels)"
      ]
    },
    {
      "cell_type": "code",
      "execution_count": 12,
      "id": "ea65b801",
      "metadata": {
        "id": "ea65b801"
      },
      "outputs": [],
      "source": [
        "# To turn string to category\n",
        "for label,content in df.items():\n",
        "    if pd.api.types.is_string_dtype(content):\n",
        "        df[label] = content.astype(\"category\").cat.as_ordered()"
      ]
    },
    {
      "cell_type": "code",
      "execution_count": 13,
      "id": "50ee9da9",
      "metadata": {
        "colab": {
          "base_uri": "https://localhost:8080/"
        },
        "id": "50ee9da9",
        "outputId": "70c33922-14a2-45fd-d644-7a9fe5d9c234"
      },
      "outputs": [
        {
          "output_type": "stream",
          "name": "stdout",
          "text": [
            "<class 'pandas.core.frame.DataFrame'>\n",
            "RangeIndex: 918 entries, 0 to 917\n",
            "Data columns (total 12 columns):\n",
            " #   Column          Non-Null Count  Dtype   \n",
            "---  ------          --------------  -----   \n",
            " 0   Age             918 non-null    int64   \n",
            " 1   Sex             918 non-null    category\n",
            " 2   ChestPainType   918 non-null    category\n",
            " 3   RestingBP       918 non-null    int64   \n",
            " 4   Cholesterol     918 non-null    int64   \n",
            " 5   FastingBS       918 non-null    int64   \n",
            " 6   RestingECG      918 non-null    category\n",
            " 7   MaxHR           918 non-null    int64   \n",
            " 8   ExerciseAngina  918 non-null    category\n",
            " 9   Oldpeak         918 non-null    float64 \n",
            " 10  ST_Slope        918 non-null    category\n",
            " 11  HeartDisease    918 non-null    int64   \n",
            "dtypes: category(5), float64(1), int64(6)\n",
            "memory usage: 55.4 KB\n"
          ]
        }
      ],
      "source": [
        "df.info()"
      ]
    },
    {
      "cell_type": "code",
      "execution_count": 14,
      "id": "069b8e58",
      "metadata": {
        "colab": {
          "base_uri": "https://localhost:8080/",
          "height": 206
        },
        "id": "069b8e58",
        "outputId": "7dbad0ad-6ce8-4eef-8cb7-1707ad98adb3"
      },
      "outputs": [
        {
          "output_type": "execute_result",
          "data": {
            "text/html": [
              "<div>\n",
              "<style scoped>\n",
              "    .dataframe tbody tr th:only-of-type {\n",
              "        vertical-align: middle;\n",
              "    }\n",
              "\n",
              "    .dataframe tbody tr th {\n",
              "        vertical-align: top;\n",
              "    }\n",
              "\n",
              "    .dataframe thead th {\n",
              "        text-align: right;\n",
              "    }\n",
              "</style>\n",
              "<table border=\"1\" class=\"dataframe\">\n",
              "  <thead>\n",
              "    <tr style=\"text-align: right;\">\n",
              "      <th></th>\n",
              "      <th>Age</th>\n",
              "      <th>Sex</th>\n",
              "      <th>ChestPainType</th>\n",
              "      <th>RestingBP</th>\n",
              "      <th>Cholesterol</th>\n",
              "      <th>FastingBS</th>\n",
              "      <th>RestingECG</th>\n",
              "      <th>MaxHR</th>\n",
              "      <th>ExerciseAngina</th>\n",
              "      <th>Oldpeak</th>\n",
              "      <th>ST_Slope</th>\n",
              "      <th>HeartDisease</th>\n",
              "    </tr>\n",
              "  </thead>\n",
              "  <tbody>\n",
              "    <tr>\n",
              "      <th>0</th>\n",
              "      <td>40</td>\n",
              "      <td>M</td>\n",
              "      <td>ATA</td>\n",
              "      <td>140</td>\n",
              "      <td>289</td>\n",
              "      <td>0</td>\n",
              "      <td>Normal</td>\n",
              "      <td>172</td>\n",
              "      <td>N</td>\n",
              "      <td>0.0</td>\n",
              "      <td>Up</td>\n",
              "      <td>0</td>\n",
              "    </tr>\n",
              "    <tr>\n",
              "      <th>1</th>\n",
              "      <td>49</td>\n",
              "      <td>F</td>\n",
              "      <td>NAP</td>\n",
              "      <td>160</td>\n",
              "      <td>180</td>\n",
              "      <td>0</td>\n",
              "      <td>Normal</td>\n",
              "      <td>156</td>\n",
              "      <td>N</td>\n",
              "      <td>1.0</td>\n",
              "      <td>Flat</td>\n",
              "      <td>1</td>\n",
              "    </tr>\n",
              "    <tr>\n",
              "      <th>2</th>\n",
              "      <td>37</td>\n",
              "      <td>M</td>\n",
              "      <td>ATA</td>\n",
              "      <td>130</td>\n",
              "      <td>283</td>\n",
              "      <td>0</td>\n",
              "      <td>ST</td>\n",
              "      <td>98</td>\n",
              "      <td>N</td>\n",
              "      <td>0.0</td>\n",
              "      <td>Up</td>\n",
              "      <td>0</td>\n",
              "    </tr>\n",
              "    <tr>\n",
              "      <th>3</th>\n",
              "      <td>48</td>\n",
              "      <td>F</td>\n",
              "      <td>ASY</td>\n",
              "      <td>138</td>\n",
              "      <td>214</td>\n",
              "      <td>0</td>\n",
              "      <td>Normal</td>\n",
              "      <td>108</td>\n",
              "      <td>Y</td>\n",
              "      <td>1.5</td>\n",
              "      <td>Flat</td>\n",
              "      <td>1</td>\n",
              "    </tr>\n",
              "    <tr>\n",
              "      <th>4</th>\n",
              "      <td>54</td>\n",
              "      <td>M</td>\n",
              "      <td>NAP</td>\n",
              "      <td>150</td>\n",
              "      <td>195</td>\n",
              "      <td>0</td>\n",
              "      <td>Normal</td>\n",
              "      <td>122</td>\n",
              "      <td>N</td>\n",
              "      <td>0.0</td>\n",
              "      <td>Up</td>\n",
              "      <td>0</td>\n",
              "    </tr>\n",
              "  </tbody>\n",
              "</table>\n",
              "</div>"
            ],
            "text/plain": [
              "   Age Sex ChestPainType  ...  Oldpeak  ST_Slope  HeartDisease\n",
              "0   40   M           ATA  ...      0.0        Up             0\n",
              "1   49   F           NAP  ...      1.0      Flat             1\n",
              "2   37   M           ATA  ...      0.0        Up             0\n",
              "3   48   F           ASY  ...      1.5      Flat             1\n",
              "4   54   M           NAP  ...      0.0        Up             0\n",
              "\n",
              "[5 rows x 12 columns]"
            ]
          },
          "metadata": {},
          "execution_count": 14
        }
      ],
      "source": [
        "df.head()"
      ]
    },
    {
      "cell_type": "code",
      "execution_count": 15,
      "id": "bc2cb318",
      "metadata": {
        "colab": {
          "base_uri": "https://localhost:8080/"
        },
        "id": "bc2cb318",
        "outputId": "efb7a8c6-2abe-4e61-c03e-77f8a217ea10"
      },
      "outputs": [
        {
          "output_type": "execute_result",
          "data": {
            "text/plain": [
              "Index(['F', 'M'], dtype='object')"
            ]
          },
          "metadata": {},
          "execution_count": 15
        }
      ],
      "source": [
        "df[\"Sex\"].cat.categories"
      ]
    },
    {
      "cell_type": "code",
      "execution_count": 16,
      "id": "b3059172",
      "metadata": {
        "colab": {
          "base_uri": "https://localhost:8080/"
        },
        "id": "b3059172",
        "outputId": "49e5c763-6460-49b7-96eb-d4632a6322c0"
      },
      "outputs": [
        {
          "output_type": "execute_result",
          "data": {
            "text/plain": [
              "0      1\n",
              "1      0\n",
              "2      1\n",
              "3      0\n",
              "4      1\n",
              "      ..\n",
              "913    1\n",
              "914    1\n",
              "915    1\n",
              "916    0\n",
              "917    1\n",
              "Length: 918, dtype: int8"
            ]
          },
          "metadata": {},
          "execution_count": 16
        }
      ],
      "source": [
        "df.Sex.cat.codes"
      ]
    },
    {
      "cell_type": "code",
      "execution_count": 17,
      "id": "afeff013",
      "metadata": {
        "colab": {
          "base_uri": "https://localhost:8080/"
        },
        "id": "afeff013",
        "outputId": "b88a3980-bc01-4c4b-a875-d26c324ccd3a"
      },
      "outputs": [
        {
          "output_type": "execute_result",
          "data": {
            "text/plain": [
              "0      1\n",
              "1      2\n",
              "2      1\n",
              "3      0\n",
              "4      2\n",
              "      ..\n",
              "913    3\n",
              "914    0\n",
              "915    0\n",
              "916    1\n",
              "917    2\n",
              "Length: 918, dtype: int8"
            ]
          },
          "metadata": {},
          "execution_count": 17
        }
      ],
      "source": [
        "df.ChestPainType.cat.codes"
      ]
    },
    {
      "cell_type": "code",
      "execution_count": 18,
      "id": "7685340e",
      "metadata": {
        "colab": {
          "base_uri": "https://localhost:8080/",
          "height": 300
        },
        "id": "7685340e",
        "outputId": "5850fa97-4319-40a2-a588-2848ef829ef3"
      },
      "outputs": [
        {
          "output_type": "execute_result",
          "data": {
            "text/html": [
              "<div>\n",
              "<style scoped>\n",
              "    .dataframe tbody tr th:only-of-type {\n",
              "        vertical-align: middle;\n",
              "    }\n",
              "\n",
              "    .dataframe tbody tr th {\n",
              "        vertical-align: top;\n",
              "    }\n",
              "\n",
              "    .dataframe thead th {\n",
              "        text-align: right;\n",
              "    }\n",
              "</style>\n",
              "<table border=\"1\" class=\"dataframe\">\n",
              "  <thead>\n",
              "    <tr style=\"text-align: right;\">\n",
              "      <th></th>\n",
              "      <th>Age</th>\n",
              "      <th>RestingBP</th>\n",
              "      <th>Cholesterol</th>\n",
              "      <th>FastingBS</th>\n",
              "      <th>MaxHR</th>\n",
              "      <th>Oldpeak</th>\n",
              "      <th>HeartDisease</th>\n",
              "    </tr>\n",
              "  </thead>\n",
              "  <tbody>\n",
              "    <tr>\n",
              "      <th>count</th>\n",
              "      <td>918.000000</td>\n",
              "      <td>918.000000</td>\n",
              "      <td>918.000000</td>\n",
              "      <td>918.000000</td>\n",
              "      <td>918.000000</td>\n",
              "      <td>918.000000</td>\n",
              "      <td>918.000000</td>\n",
              "    </tr>\n",
              "    <tr>\n",
              "      <th>mean</th>\n",
              "      <td>53.510893</td>\n",
              "      <td>132.396514</td>\n",
              "      <td>198.799564</td>\n",
              "      <td>0.233115</td>\n",
              "      <td>136.809368</td>\n",
              "      <td>0.887364</td>\n",
              "      <td>0.553377</td>\n",
              "    </tr>\n",
              "    <tr>\n",
              "      <th>std</th>\n",
              "      <td>9.432617</td>\n",
              "      <td>18.514154</td>\n",
              "      <td>109.384145</td>\n",
              "      <td>0.423046</td>\n",
              "      <td>25.460334</td>\n",
              "      <td>1.066570</td>\n",
              "      <td>0.497414</td>\n",
              "    </tr>\n",
              "    <tr>\n",
              "      <th>min</th>\n",
              "      <td>28.000000</td>\n",
              "      <td>0.000000</td>\n",
              "      <td>0.000000</td>\n",
              "      <td>0.000000</td>\n",
              "      <td>60.000000</td>\n",
              "      <td>-2.600000</td>\n",
              "      <td>0.000000</td>\n",
              "    </tr>\n",
              "    <tr>\n",
              "      <th>25%</th>\n",
              "      <td>47.000000</td>\n",
              "      <td>120.000000</td>\n",
              "      <td>173.250000</td>\n",
              "      <td>0.000000</td>\n",
              "      <td>120.000000</td>\n",
              "      <td>0.000000</td>\n",
              "      <td>0.000000</td>\n",
              "    </tr>\n",
              "    <tr>\n",
              "      <th>50%</th>\n",
              "      <td>54.000000</td>\n",
              "      <td>130.000000</td>\n",
              "      <td>223.000000</td>\n",
              "      <td>0.000000</td>\n",
              "      <td>138.000000</td>\n",
              "      <td>0.600000</td>\n",
              "      <td>1.000000</td>\n",
              "    </tr>\n",
              "    <tr>\n",
              "      <th>75%</th>\n",
              "      <td>60.000000</td>\n",
              "      <td>140.000000</td>\n",
              "      <td>267.000000</td>\n",
              "      <td>0.000000</td>\n",
              "      <td>156.000000</td>\n",
              "      <td>1.500000</td>\n",
              "      <td>1.000000</td>\n",
              "    </tr>\n",
              "    <tr>\n",
              "      <th>max</th>\n",
              "      <td>77.000000</td>\n",
              "      <td>200.000000</td>\n",
              "      <td>603.000000</td>\n",
              "      <td>1.000000</td>\n",
              "      <td>202.000000</td>\n",
              "      <td>6.200000</td>\n",
              "      <td>1.000000</td>\n",
              "    </tr>\n",
              "  </tbody>\n",
              "</table>\n",
              "</div>"
            ],
            "text/plain": [
              "              Age   RestingBP  ...     Oldpeak  HeartDisease\n",
              "count  918.000000  918.000000  ...  918.000000    918.000000\n",
              "mean    53.510893  132.396514  ...    0.887364      0.553377\n",
              "std      9.432617   18.514154  ...    1.066570      0.497414\n",
              "min     28.000000    0.000000  ...   -2.600000      0.000000\n",
              "25%     47.000000  120.000000  ...    0.000000      0.000000\n",
              "50%     54.000000  130.000000  ...    0.600000      1.000000\n",
              "75%     60.000000  140.000000  ...    1.500000      1.000000\n",
              "max     77.000000  200.000000  ...    6.200000      1.000000\n",
              "\n",
              "[8 rows x 7 columns]"
            ]
          },
          "metadata": {},
          "execution_count": 18
        }
      ],
      "source": [
        "df.describe()"
      ]
    },
    {
      "cell_type": "code",
      "execution_count": 19,
      "id": "a7bba303",
      "metadata": {
        "colab": {
          "base_uri": "https://localhost:8080/"
        },
        "id": "a7bba303",
        "outputId": "309ced91-0d40-4e7d-ea2c-c84771170ac4"
      },
      "outputs": [
        {
          "output_type": "execute_result",
          "data": {
            "text/plain": [
              "M    725\n",
              "F    193\n",
              "Name: Sex, dtype: int64"
            ]
          },
          "metadata": {},
          "execution_count": 19
        }
      ],
      "source": [
        "df.Sex.value_counts()"
      ]
    },
    {
      "cell_type": "code",
      "execution_count": 20,
      "id": "1f539810",
      "metadata": {
        "colab": {
          "base_uri": "https://localhost:8080/"
        },
        "id": "1f539810",
        "outputId": "ca29b7c5-4bf4-40ec-ed12-30bd84b846f6"
      },
      "outputs": [
        {
          "output_type": "execute_result",
          "data": {
            "text/plain": [
              "0      M\n",
              "1      F\n",
              "2      M\n",
              "3      F\n",
              "4      M\n",
              "      ..\n",
              "913    M\n",
              "914    M\n",
              "915    M\n",
              "916    F\n",
              "917    M\n",
              "Name: Sex, Length: 918, dtype: category\n",
              "Categories (2, object): ['F' < 'M']"
            ]
          },
          "metadata": {},
          "execution_count": 20
        }
      ],
      "source": [
        "df.Sex"
      ]
    },
    {
      "cell_type": "code",
      "execution_count": 21,
      "id": "de3a058d",
      "metadata": {
        "colab": {
          "base_uri": "https://localhost:8080/",
          "height": 144
        },
        "id": "de3a058d",
        "outputId": "56425a49-7b20-4457-a77e-316dd6445ce2"
      },
      "outputs": [
        {
          "output_type": "execute_result",
          "data": {
            "text/html": [
              "<div>\n",
              "<style scoped>\n",
              "    .dataframe tbody tr th:only-of-type {\n",
              "        vertical-align: middle;\n",
              "    }\n",
              "\n",
              "    .dataframe tbody tr th {\n",
              "        vertical-align: top;\n",
              "    }\n",
              "\n",
              "    .dataframe thead th {\n",
              "        text-align: right;\n",
              "    }\n",
              "</style>\n",
              "<table border=\"1\" class=\"dataframe\">\n",
              "  <thead>\n",
              "    <tr style=\"text-align: right;\">\n",
              "      <th>Sex</th>\n",
              "      <th>F</th>\n",
              "      <th>M</th>\n",
              "    </tr>\n",
              "    <tr>\n",
              "      <th>HeartDisease</th>\n",
              "      <th></th>\n",
              "      <th></th>\n",
              "    </tr>\n",
              "  </thead>\n",
              "  <tbody>\n",
              "    <tr>\n",
              "      <th>0</th>\n",
              "      <td>143</td>\n",
              "      <td>267</td>\n",
              "    </tr>\n",
              "    <tr>\n",
              "      <th>1</th>\n",
              "      <td>50</td>\n",
              "      <td>458</td>\n",
              "    </tr>\n",
              "  </tbody>\n",
              "</table>\n",
              "</div>"
            ],
            "text/plain": [
              "Sex             F    M\n",
              "HeartDisease          \n",
              "0             143  267\n",
              "1              50  458"
            ]
          },
          "metadata": {},
          "execution_count": 21
        }
      ],
      "source": [
        "pd.crosstab(df.HeartDisease,df.Sex)"
      ]
    },
    {
      "cell_type": "code",
      "execution_count": 27,
      "id": "3b1ba8f8",
      "metadata": {
        "id": "3b1ba8f8"
      },
      "outputs": [],
      "source": [
        "for label, content in df.items():\n",
        "    if not pd.api.types.is_numeric_dtype(content):\n",
        "        df[label] = pd.Categorical(content).codes + 1"
      ]
    },
    {
      "cell_type": "code",
      "execution_count": 28,
      "id": "e3a0ca1e",
      "metadata": {
        "colab": {
          "base_uri": "https://localhost:8080/"
        },
        "id": "e3a0ca1e",
        "outputId": "da72c0cc-5e75-4999-ebe7-cea0a18e6990"
      },
      "outputs": [
        {
          "output_type": "execute_result",
          "data": {
            "text/plain": [
              "(   Age  Sex  ChestPainType  RestingBP  ...  MaxHR  ExerciseAngina  Oldpeak  ST_Slope\n",
              " 0   40    2              2        140  ...    172               1      0.0         3\n",
              " 1   49    1              3        160  ...    156               1      1.0         2\n",
              " 2   37    2              2        130  ...     98               1      0.0         3\n",
              " 3   48    1              1        138  ...    108               2      1.5         2\n",
              " 4   54    2              3        150  ...    122               1      0.0         3\n",
              " \n",
              " [5 rows x 11 columns], 0    0\n",
              " 1    1\n",
              " 2    0\n",
              " 3    1\n",
              " 4    0\n",
              " Name: HeartDisease, dtype: int64)"
            ]
          },
          "metadata": {},
          "execution_count": 28
        }
      ],
      "source": [
        "# Split the data into x and y\n",
        "x = df.drop('HeartDisease',axis=1)\n",
        "\n",
        "y = df['HeartDisease']\n",
        "\n",
        "x.head(), y.head()"
      ]
    },
    {
      "cell_type": "code",
      "execution_count": 29,
      "id": "d3d1229c",
      "metadata": {
        "colab": {
          "base_uri": "https://localhost:8080/",
          "height": 206
        },
        "id": "d3d1229c",
        "outputId": "649d0394-11a9-4d33-b635-d6d286d073d4"
      },
      "outputs": [
        {
          "output_type": "execute_result",
          "data": {
            "text/html": [
              "<div>\n",
              "<style scoped>\n",
              "    .dataframe tbody tr th:only-of-type {\n",
              "        vertical-align: middle;\n",
              "    }\n",
              "\n",
              "    .dataframe tbody tr th {\n",
              "        vertical-align: top;\n",
              "    }\n",
              "\n",
              "    .dataframe thead th {\n",
              "        text-align: right;\n",
              "    }\n",
              "</style>\n",
              "<table border=\"1\" class=\"dataframe\">\n",
              "  <thead>\n",
              "    <tr style=\"text-align: right;\">\n",
              "      <th></th>\n",
              "      <th>Age</th>\n",
              "      <th>Sex</th>\n",
              "      <th>ChestPainType</th>\n",
              "      <th>RestingBP</th>\n",
              "      <th>Cholesterol</th>\n",
              "      <th>FastingBS</th>\n",
              "      <th>RestingECG</th>\n",
              "      <th>MaxHR</th>\n",
              "      <th>ExerciseAngina</th>\n",
              "      <th>Oldpeak</th>\n",
              "      <th>ST_Slope</th>\n",
              "    </tr>\n",
              "  </thead>\n",
              "  <tbody>\n",
              "    <tr>\n",
              "      <th>0</th>\n",
              "      <td>40</td>\n",
              "      <td>2</td>\n",
              "      <td>2</td>\n",
              "      <td>140</td>\n",
              "      <td>289</td>\n",
              "      <td>0</td>\n",
              "      <td>2</td>\n",
              "      <td>172</td>\n",
              "      <td>1</td>\n",
              "      <td>0.0</td>\n",
              "      <td>3</td>\n",
              "    </tr>\n",
              "    <tr>\n",
              "      <th>1</th>\n",
              "      <td>49</td>\n",
              "      <td>1</td>\n",
              "      <td>3</td>\n",
              "      <td>160</td>\n",
              "      <td>180</td>\n",
              "      <td>0</td>\n",
              "      <td>2</td>\n",
              "      <td>156</td>\n",
              "      <td>1</td>\n",
              "      <td>1.0</td>\n",
              "      <td>2</td>\n",
              "    </tr>\n",
              "    <tr>\n",
              "      <th>2</th>\n",
              "      <td>37</td>\n",
              "      <td>2</td>\n",
              "      <td>2</td>\n",
              "      <td>130</td>\n",
              "      <td>283</td>\n",
              "      <td>0</td>\n",
              "      <td>3</td>\n",
              "      <td>98</td>\n",
              "      <td>1</td>\n",
              "      <td>0.0</td>\n",
              "      <td>3</td>\n",
              "    </tr>\n",
              "    <tr>\n",
              "      <th>3</th>\n",
              "      <td>48</td>\n",
              "      <td>1</td>\n",
              "      <td>1</td>\n",
              "      <td>138</td>\n",
              "      <td>214</td>\n",
              "      <td>0</td>\n",
              "      <td>2</td>\n",
              "      <td>108</td>\n",
              "      <td>2</td>\n",
              "      <td>1.5</td>\n",
              "      <td>2</td>\n",
              "    </tr>\n",
              "    <tr>\n",
              "      <th>4</th>\n",
              "      <td>54</td>\n",
              "      <td>2</td>\n",
              "      <td>3</td>\n",
              "      <td>150</td>\n",
              "      <td>195</td>\n",
              "      <td>0</td>\n",
              "      <td>2</td>\n",
              "      <td>122</td>\n",
              "      <td>1</td>\n",
              "      <td>0.0</td>\n",
              "      <td>3</td>\n",
              "    </tr>\n",
              "  </tbody>\n",
              "</table>\n",
              "</div>"
            ],
            "text/plain": [
              "   Age  Sex  ChestPainType  RestingBP  ...  MaxHR  ExerciseAngina  Oldpeak  ST_Slope\n",
              "0   40    2              2        140  ...    172               1      0.0         3\n",
              "1   49    1              3        160  ...    156               1      1.0         2\n",
              "2   37    2              2        130  ...     98               1      0.0         3\n",
              "3   48    1              1        138  ...    108               2      1.5         2\n",
              "4   54    2              3        150  ...    122               1      0.0         3\n",
              "\n",
              "[5 rows x 11 columns]"
            ]
          },
          "metadata": {},
          "execution_count": 29
        }
      ],
      "source": [
        "x.head()"
      ]
    },
    {
      "cell_type": "code",
      "execution_count": 30,
      "id": "9614ff94",
      "metadata": {
        "id": "9614ff94"
      },
      "outputs": [],
      "source": [
        "#  Split the data into train and test sets\n",
        "np.random.seed(42)\n",
        "\n",
        "x_train,x_test,y_train,y_test = train_test_split(x,y,test_size=0.2)\n"
      ]
    },
    {
      "cell_type": "code",
      "execution_count": 31,
      "id": "45d4ef6d",
      "metadata": {
        "colab": {
          "base_uri": "https://localhost:8080/",
          "height": 424
        },
        "id": "45d4ef6d",
        "outputId": "131c5cfe-cc84-496b-b414-005414d79a93"
      },
      "outputs": [
        {
          "output_type": "execute_result",
          "data": {
            "text/html": [
              "<div>\n",
              "<style scoped>\n",
              "    .dataframe tbody tr th:only-of-type {\n",
              "        vertical-align: middle;\n",
              "    }\n",
              "\n",
              "    .dataframe tbody tr th {\n",
              "        vertical-align: top;\n",
              "    }\n",
              "\n",
              "    .dataframe thead th {\n",
              "        text-align: right;\n",
              "    }\n",
              "</style>\n",
              "<table border=\"1\" class=\"dataframe\">\n",
              "  <thead>\n",
              "    <tr style=\"text-align: right;\">\n",
              "      <th></th>\n",
              "      <th>Age</th>\n",
              "      <th>Sex</th>\n",
              "      <th>ChestPainType</th>\n",
              "      <th>RestingBP</th>\n",
              "      <th>Cholesterol</th>\n",
              "      <th>FastingBS</th>\n",
              "      <th>RestingECG</th>\n",
              "      <th>MaxHR</th>\n",
              "      <th>ExerciseAngina</th>\n",
              "      <th>Oldpeak</th>\n",
              "      <th>ST_Slope</th>\n",
              "    </tr>\n",
              "  </thead>\n",
              "  <tbody>\n",
              "    <tr>\n",
              "      <th>795</th>\n",
              "      <td>42</td>\n",
              "      <td>2</td>\n",
              "      <td>3</td>\n",
              "      <td>120</td>\n",
              "      <td>240</td>\n",
              "      <td>1</td>\n",
              "      <td>2</td>\n",
              "      <td>194</td>\n",
              "      <td>1</td>\n",
              "      <td>0.8</td>\n",
              "      <td>1</td>\n",
              "    </tr>\n",
              "    <tr>\n",
              "      <th>25</th>\n",
              "      <td>36</td>\n",
              "      <td>2</td>\n",
              "      <td>3</td>\n",
              "      <td>130</td>\n",
              "      <td>209</td>\n",
              "      <td>0</td>\n",
              "      <td>2</td>\n",
              "      <td>178</td>\n",
              "      <td>1</td>\n",
              "      <td>0.0</td>\n",
              "      <td>3</td>\n",
              "    </tr>\n",
              "    <tr>\n",
              "      <th>84</th>\n",
              "      <td>56</td>\n",
              "      <td>2</td>\n",
              "      <td>1</td>\n",
              "      <td>150</td>\n",
              "      <td>213</td>\n",
              "      <td>1</td>\n",
              "      <td>2</td>\n",
              "      <td>125</td>\n",
              "      <td>2</td>\n",
              "      <td>1.0</td>\n",
              "      <td>2</td>\n",
              "    </tr>\n",
              "    <tr>\n",
              "      <th>10</th>\n",
              "      <td>37</td>\n",
              "      <td>1</td>\n",
              "      <td>3</td>\n",
              "      <td>130</td>\n",
              "      <td>211</td>\n",
              "      <td>0</td>\n",
              "      <td>2</td>\n",
              "      <td>142</td>\n",
              "      <td>1</td>\n",
              "      <td>0.0</td>\n",
              "      <td>3</td>\n",
              "    </tr>\n",
              "    <tr>\n",
              "      <th>344</th>\n",
              "      <td>51</td>\n",
              "      <td>2</td>\n",
              "      <td>1</td>\n",
              "      <td>120</td>\n",
              "      <td>0</td>\n",
              "      <td>1</td>\n",
              "      <td>2</td>\n",
              "      <td>104</td>\n",
              "      <td>1</td>\n",
              "      <td>0.0</td>\n",
              "      <td>2</td>\n",
              "    </tr>\n",
              "    <tr>\n",
              "      <th>...</th>\n",
              "      <td>...</td>\n",
              "      <td>...</td>\n",
              "      <td>...</td>\n",
              "      <td>...</td>\n",
              "      <td>...</td>\n",
              "      <td>...</td>\n",
              "      <td>...</td>\n",
              "      <td>...</td>\n",
              "      <td>...</td>\n",
              "      <td>...</td>\n",
              "      <td>...</td>\n",
              "    </tr>\n",
              "    <tr>\n",
              "      <th>106</th>\n",
              "      <td>48</td>\n",
              "      <td>1</td>\n",
              "      <td>1</td>\n",
              "      <td>120</td>\n",
              "      <td>254</td>\n",
              "      <td>0</td>\n",
              "      <td>3</td>\n",
              "      <td>110</td>\n",
              "      <td>1</td>\n",
              "      <td>0.0</td>\n",
              "      <td>3</td>\n",
              "    </tr>\n",
              "    <tr>\n",
              "      <th>270</th>\n",
              "      <td>45</td>\n",
              "      <td>2</td>\n",
              "      <td>1</td>\n",
              "      <td>120</td>\n",
              "      <td>225</td>\n",
              "      <td>0</td>\n",
              "      <td>2</td>\n",
              "      <td>140</td>\n",
              "      <td>1</td>\n",
              "      <td>0.0</td>\n",
              "      <td>3</td>\n",
              "    </tr>\n",
              "    <tr>\n",
              "      <th>860</th>\n",
              "      <td>60</td>\n",
              "      <td>2</td>\n",
              "      <td>1</td>\n",
              "      <td>130</td>\n",
              "      <td>253</td>\n",
              "      <td>0</td>\n",
              "      <td>2</td>\n",
              "      <td>144</td>\n",
              "      <td>2</td>\n",
              "      <td>1.4</td>\n",
              "      <td>3</td>\n",
              "    </tr>\n",
              "    <tr>\n",
              "      <th>435</th>\n",
              "      <td>60</td>\n",
              "      <td>2</td>\n",
              "      <td>1</td>\n",
              "      <td>152</td>\n",
              "      <td>0</td>\n",
              "      <td>0</td>\n",
              "      <td>3</td>\n",
              "      <td>118</td>\n",
              "      <td>2</td>\n",
              "      <td>0.0</td>\n",
              "      <td>3</td>\n",
              "    </tr>\n",
              "    <tr>\n",
              "      <th>102</th>\n",
              "      <td>40</td>\n",
              "      <td>1</td>\n",
              "      <td>1</td>\n",
              "      <td>150</td>\n",
              "      <td>392</td>\n",
              "      <td>0</td>\n",
              "      <td>2</td>\n",
              "      <td>130</td>\n",
              "      <td>1</td>\n",
              "      <td>2.0</td>\n",
              "      <td>2</td>\n",
              "    </tr>\n",
              "  </tbody>\n",
              "</table>\n",
              "<p>734 rows × 11 columns</p>\n",
              "</div>"
            ],
            "text/plain": [
              "     Age  Sex  ChestPainType  ...  ExerciseAngina  Oldpeak  ST_Slope\n",
              "795   42    2              3  ...               1      0.8         1\n",
              "25    36    2              3  ...               1      0.0         3\n",
              "84    56    2              1  ...               2      1.0         2\n",
              "10    37    1              3  ...               1      0.0         3\n",
              "344   51    2              1  ...               1      0.0         2\n",
              "..   ...  ...            ...  ...             ...      ...       ...\n",
              "106   48    1              1  ...               1      0.0         3\n",
              "270   45    2              1  ...               1      0.0         3\n",
              "860   60    2              1  ...               2      1.4         3\n",
              "435   60    2              1  ...               2      0.0         3\n",
              "102   40    1              1  ...               1      2.0         2\n",
              "\n",
              "[734 rows x 11 columns]"
            ]
          },
          "metadata": {},
          "execution_count": 31
        }
      ],
      "source": [
        "x_train"
      ]
    },
    {
      "cell_type": "code",
      "execution_count": 32,
      "id": "ca676e3f",
      "metadata": {
        "colab": {
          "base_uri": "https://localhost:8080/"
        },
        "id": "ca676e3f",
        "outputId": "959170c9-f676-424c-dcc7-8f72cc30d997"
      },
      "outputs": [
        {
          "output_type": "execute_result",
          "data": {
            "text/plain": [
              "(184, 184)"
            ]
          },
          "metadata": {},
          "execution_count": 32
        }
      ],
      "source": [
        "len(x_test) , len(y_test)"
      ]
    },
    {
      "cell_type": "code",
      "execution_count": 33,
      "id": "bf652f35",
      "metadata": {
        "id": "bf652f35"
      },
      "outputs": [],
      "source": [
        "# models = {\"Logistic Regression\" : LogisticRegression(),\n",
        "#           \"KNN\": KNeighborsClassifier(),\n",
        "#           \"Random Forest\": RandomForestClassifier()}\n",
        "\n",
        "# def fit_and_score(models,x_train,x_test,y_train,y_test):\n",
        "#     np.random.seed(42)\n",
        "#     model_scores = {}\n",
        "#     for name,model in models.items():\n",
        "#         model.fit(x_train,y_train)\n",
        "#         model_scores[name] = model.score(x_test,y_test)\n",
        "#     return model_scores"
      ]
    },
    {
      "cell_type": "code",
      "execution_count": 34,
      "id": "c31e07d8",
      "metadata": {
        "colab": {
          "base_uri": "https://localhost:8080/"
        },
        "id": "c31e07d8",
        "outputId": "f38ee5bf-a8e1-4037-af75-a8b942704812"
      },
      "outputs": [
        {
          "output_type": "stream",
          "name": "stdout",
          "text": [
            "<class 'pandas.core.frame.DataFrame'>\n",
            "RangeIndex: 918 entries, 0 to 917\n",
            "Data columns (total 12 columns):\n",
            " #   Column          Non-Null Count  Dtype  \n",
            "---  ------          --------------  -----  \n",
            " 0   Age             918 non-null    int64  \n",
            " 1   Sex             918 non-null    int8   \n",
            " 2   ChestPainType   918 non-null    int8   \n",
            " 3   RestingBP       918 non-null    int64  \n",
            " 4   Cholesterol     918 non-null    int64  \n",
            " 5   FastingBS       918 non-null    int64  \n",
            " 6   RestingECG      918 non-null    int8   \n",
            " 7   MaxHR           918 non-null    int64  \n",
            " 8   ExerciseAngina  918 non-null    int8   \n",
            " 9   Oldpeak         918 non-null    float64\n",
            " 10  ST_Slope        918 non-null    int8   \n",
            " 11  HeartDisease    918 non-null    int64  \n",
            "dtypes: float64(1), int64(6), int8(5)\n",
            "memory usage: 54.8 KB\n"
          ]
        }
      ],
      "source": [
        "df.info()"
      ]
    },
    {
      "cell_type": "code",
      "execution_count": 35,
      "id": "36fc6b83",
      "metadata": {
        "colab": {
          "base_uri": "https://localhost:8080/"
        },
        "id": "36fc6b83",
        "outputId": "c261942b-cfc7-41ec-9478-191fe061de84"
      },
      "outputs": [
        {
          "output_type": "stream",
          "name": "stdout",
          "text": [
            "<class 'pandas.core.frame.DataFrame'>\n",
            "RangeIndex: 918 entries, 0 to 917\n",
            "Data columns (total 12 columns):\n",
            " #   Column          Non-Null Count  Dtype  \n",
            "---  ------          --------------  -----  \n",
            " 0   Age             918 non-null    int64  \n",
            " 1   Sex             918 non-null    int8   \n",
            " 2   ChestPainType   918 non-null    int8   \n",
            " 3   RestingBP       918 non-null    int64  \n",
            " 4   Cholesterol     918 non-null    int64  \n",
            " 5   FastingBS       918 non-null    int64  \n",
            " 6   RestingECG      918 non-null    int8   \n",
            " 7   MaxHR           918 non-null    int64  \n",
            " 8   ExerciseAngina  918 non-null    int8   \n",
            " 9   Oldpeak         918 non-null    float64\n",
            " 10  ST_Slope        918 non-null    int8   \n",
            " 11  HeartDisease    918 non-null    int64  \n",
            "dtypes: float64(1), int64(6), int8(5)\n",
            "memory usage: 54.8 KB\n"
          ]
        }
      ],
      "source": [
        "df.info()"
      ]
    },
    {
      "cell_type": "code",
      "source": [
        "for k,v in df.items():\n",
        "  x = df[k].max()\n",
        "  df[k] = v/x"
      ],
      "metadata": {
        "id": "9tjdp_EMYXPD"
      },
      "id": "9tjdp_EMYXPD",
      "execution_count": 91,
      "outputs": []
    },
    {
      "cell_type": "code",
      "source": [
        "# Split the data into x and y\n",
        "x = df.drop('HeartDisease',axis=1)\n",
        "\n",
        "y = df['HeartDisease']\n",
        "\n",
        "x.head(), y.head()\n"
      ],
      "metadata": {
        "colab": {
          "base_uri": "https://localhost:8080/"
        },
        "id": "HO_2GtVUcodC",
        "outputId": "177d6be7-8bf4-4ffa-813e-e969ca16b375"
      },
      "id": "HO_2GtVUcodC",
      "execution_count": 94,
      "outputs": [
        {
          "output_type": "execute_result",
          "data": {
            "text/plain": [
              "(        Age  Sex  ChestPainType  ...  ExerciseAngina   Oldpeak  ST_Slope\n",
              " 0  0.519481  1.0           0.50  ...             0.5  0.000000  1.000000\n",
              " 1  0.636364  0.5           0.75  ...             0.5  0.161290  0.666667\n",
              " 2  0.480519  1.0           0.50  ...             0.5  0.000000  1.000000\n",
              " 3  0.623377  0.5           0.25  ...             1.0  0.241935  0.666667\n",
              " 4  0.701299  1.0           0.75  ...             0.5  0.000000  1.000000\n",
              " \n",
              " [5 rows x 11 columns], 0    0.0\n",
              " 1    1.0\n",
              " 2    0.0\n",
              " 3    1.0\n",
              " 4    0.0\n",
              " Name: HeartDisease, dtype: float64)"
            ]
          },
          "metadata": {},
          "execution_count": 94
        }
      ]
    },
    {
      "cell_type": "code",
      "source": [
        "tf.random.set_seed(42)\n",
        "x_train, x_test, y_train, y_test = train_test_split(x,y, test_size=0.2)"
      ],
      "metadata": {
        "id": "ZFxldSfndv0N"
      },
      "id": "ZFxldSfndv0N",
      "execution_count": 99,
      "outputs": []
    },
    {
      "cell_type": "code",
      "execution_count": 36,
      "id": "94027a70",
      "metadata": {
        "id": "94027a70"
      },
      "outputs": [],
      "source": [
        "models = {\"Logistic Regression\" : LogisticRegression(),\n",
        "          \"KNN\": KNeighborsClassifier(),\n",
        "          \"Random Forest\": RandomForestClassifier()}\n",
        "\n",
        "def fit_and_score(models,x_train,x_test,y_train,y_test):\n",
        "    np.random.seed(42)\n",
        "    model_scores = {}\n",
        "    for name,model in models.items():\n",
        "        model.fit(x_train,y_train)\n",
        "        model_scores[name] = model.score(x_test,y_test)\n",
        "    return model_scores"
      ]
    },
    {
      "cell_type": "code",
      "execution_count": 37,
      "id": "70a118f8",
      "metadata": {
        "colab": {
          "base_uri": "https://localhost:8080/"
        },
        "id": "70a118f8",
        "outputId": "30acc097-105f-4271-f360-846c896d12d9"
      },
      "outputs": [
        {
          "output_type": "stream",
          "name": "stderr",
          "text": [
            "/usr/local/lib/python3.7/dist-packages/sklearn/linear_model/_logistic.py:818: ConvergenceWarning: lbfgs failed to converge (status=1):\n",
            "STOP: TOTAL NO. of ITERATIONS REACHED LIMIT.\n",
            "\n",
            "Increase the number of iterations (max_iter) or scale the data as shown in:\n",
            "    https://scikit-learn.org/stable/modules/preprocessing.html\n",
            "Please also refer to the documentation for alternative solver options:\n",
            "    https://scikit-learn.org/stable/modules/linear_model.html#logistic-regression\n",
            "  extra_warning_msg=_LOGISTIC_SOLVER_CONVERGENCE_MSG,\n"
          ]
        },
        {
          "output_type": "execute_result",
          "data": {
            "text/plain": [
              "{'KNN': 0.7010869565217391,\n",
              " 'Logistic Regression': 0.842391304347826,\n",
              " 'Random Forest': 0.8804347826086957}"
            ]
          },
          "metadata": {},
          "execution_count": 37
        }
      ],
      "source": [
        "fit_and_score(models,x_train,x_test,y_train,y_test)"
      ]
    },
    {
      "cell_type": "code",
      "source": [
        "model = RandomForestClassifier()"
      ],
      "metadata": {
        "id": "zNfIthY0QUfP"
      },
      "id": "zNfIthY0QUfP",
      "execution_count": 41,
      "outputs": []
    },
    {
      "cell_type": "code",
      "execution_count": 43,
      "id": "069f1335",
      "metadata": {
        "id": "069f1335"
      },
      "outputs": [],
      "source": [
        "from sklearn.model_selection import cross_val_score\n",
        "\n",
        "scores = cross_val_score(model, x_train, y_train, cv=5)"
      ]
    },
    {
      "cell_type": "code",
      "execution_count": 44,
      "id": "347c5f57",
      "metadata": {
        "colab": {
          "base_uri": "https://localhost:8080/"
        },
        "id": "347c5f57",
        "outputId": "1d5b7446-41e7-45de-88fb-82d5cd231b79"
      },
      "outputs": [
        {
          "output_type": "execute_result",
          "data": {
            "text/plain": [
              "array([0.8707483 , 0.88435374, 0.84353741, 0.85714286, 0.85616438])"
            ]
          },
          "metadata": {},
          "execution_count": 44
        }
      ],
      "source": [
        "scores"
      ]
    },
    {
      "cell_type": "code",
      "execution_count": 45,
      "id": "377f59b3",
      "metadata": {
        "id": "377f59b3"
      },
      "outputs": [],
      "source": [
        "rf_grid = {\"n_estimators\":np.arange(10,1000,50),\n",
        "           \"max_depth\":[None,3,5,10],\n",
        "           \"min_samples_split\":np.arange(2,20,2),\n",
        "           \"min_samples_leaf\":np.arange(2,20,2)}"
      ]
    },
    {
      "cell_type": "code",
      "execution_count": 147,
      "id": "1d938f7a",
      "metadata": {
        "colab": {
          "base_uri": "https://localhost:8080/"
        },
        "id": "1d938f7a",
        "outputId": "532ca282-976c-4df6-dd24-237d6937b310"
      },
      "outputs": [
        {
          "output_type": "stream",
          "name": "stdout",
          "text": [
            "Fitting 5 folds for each of 20 candidates, totalling 100 fits\n"
          ]
        },
        {
          "output_type": "execute_result",
          "data": {
            "text/plain": [
              "RandomizedSearchCV(cv=5, estimator=RandomForestClassifier(), n_iter=20,\n",
              "                   param_distributions={'max_depth': [None, 3, 5, 10],\n",
              "                                        'min_samples_leaf': array([ 2,  4,  6,  8, 10, 12, 14, 16, 18]),\n",
              "                                        'min_samples_split': array([ 2,  4,  6,  8, 10, 12, 14, 16, 18]),\n",
              "                                        'n_estimators': array([ 10,  60, 110, 160, 210, 260, 310, 360, 410, 460, 510, 560, 610,\n",
              "       660, 710, 760, 810, 860, 910, 960])},\n",
              "                   verbose=True)"
            ]
          },
          "metadata": {},
          "execution_count": 147
        }
      ],
      "source": [
        "np.random.seed(42)\n",
        "\n",
        "rs = RandomizedSearchCV(RandomForestClassifier(),\n",
        "                       param_distributions=rf_grid,\n",
        "                       cv=5,\n",
        "                       n_iter=20,\n",
        "                       verbose=True)\n",
        "\n",
        "rs.fit(x_train,y_train)"
      ]
    },
    {
      "cell_type": "code",
      "execution_count": 148,
      "id": "822d221a",
      "metadata": {
        "colab": {
          "base_uri": "https://localhost:8080/"
        },
        "id": "822d221a",
        "outputId": "166b3bfd-0f1f-4ec9-9eb6-f2b0235d3d0c"
      },
      "outputs": [
        {
          "output_type": "execute_result",
          "data": {
            "text/plain": [
              "{'max_depth': None,\n",
              " 'min_samples_leaf': 2,\n",
              " 'min_samples_split': 14,\n",
              " 'n_estimators': 510}"
            ]
          },
          "metadata": {},
          "execution_count": 148
        }
      ],
      "source": [
        "rs.best_params_"
      ]
    },
    {
      "cell_type": "code",
      "execution_count": 149,
      "id": "3c323d13",
      "metadata": {
        "colab": {
          "base_uri": "https://localhost:8080/"
        },
        "id": "3c323d13",
        "outputId": "5a97dafe-a1a2-4512-c7a4-18f1aa24f6c1"
      },
      "outputs": [
        {
          "output_type": "execute_result",
          "data": {
            "text/plain": [
              "0.907608695652174"
            ]
          },
          "metadata": {},
          "execution_count": 149
        }
      ],
      "source": [
        "rs.score(x_test,y_test)"
      ]
    },
    {
      "cell_type": "code",
      "source": [
        "x_train"
      ],
      "metadata": {
        "colab": {
          "base_uri": "https://localhost:8080/",
          "height": 424
        },
        "id": "jr0pTE4GmMiA",
        "outputId": "c79bbd03-91db-4f9c-c9c9-d766508e351b"
      },
      "id": "jr0pTE4GmMiA",
      "execution_count": 153,
      "outputs": [
        {
          "output_type": "execute_result",
          "data": {
            "text/html": [
              "<div>\n",
              "<style scoped>\n",
              "    .dataframe tbody tr th:only-of-type {\n",
              "        vertical-align: middle;\n",
              "    }\n",
              "\n",
              "    .dataframe tbody tr th {\n",
              "        vertical-align: top;\n",
              "    }\n",
              "\n",
              "    .dataframe thead th {\n",
              "        text-align: right;\n",
              "    }\n",
              "</style>\n",
              "<table border=\"1\" class=\"dataframe\">\n",
              "  <thead>\n",
              "    <tr style=\"text-align: right;\">\n",
              "      <th></th>\n",
              "      <th>Age</th>\n",
              "      <th>Sex</th>\n",
              "      <th>ChestPainType</th>\n",
              "      <th>RestingBP</th>\n",
              "      <th>Cholesterol</th>\n",
              "      <th>FastingBS</th>\n",
              "      <th>RestingECG</th>\n",
              "      <th>MaxHR</th>\n",
              "      <th>ExerciseAngina</th>\n",
              "      <th>Oldpeak</th>\n",
              "      <th>ST_Slope</th>\n",
              "    </tr>\n",
              "  </thead>\n",
              "  <tbody>\n",
              "    <tr>\n",
              "      <th>671</th>\n",
              "      <td>0.792208</td>\n",
              "      <td>1.0</td>\n",
              "      <td>0.25</td>\n",
              "      <td>0.69</td>\n",
              "      <td>0.275290</td>\n",
              "      <td>0.0</td>\n",
              "      <td>0.333333</td>\n",
              "      <td>0.618812</td>\n",
              "      <td>1.0</td>\n",
              "      <td>0.580645</td>\n",
              "      <td>0.666667</td>\n",
              "    </tr>\n",
              "    <tr>\n",
              "      <th>905</th>\n",
              "      <td>0.870130</td>\n",
              "      <td>1.0</td>\n",
              "      <td>0.75</td>\n",
              "      <td>0.76</td>\n",
              "      <td>0.351575</td>\n",
              "      <td>0.0</td>\n",
              "      <td>0.333333</td>\n",
              "      <td>0.742574</td>\n",
              "      <td>0.5</td>\n",
              "      <td>0.129032</td>\n",
              "      <td>0.666667</td>\n",
              "    </tr>\n",
              "    <tr>\n",
              "      <th>863</th>\n",
              "      <td>0.779221</td>\n",
              "      <td>1.0</td>\n",
              "      <td>0.75</td>\n",
              "      <td>0.70</td>\n",
              "      <td>0.306799</td>\n",
              "      <td>0.0</td>\n",
              "      <td>0.333333</td>\n",
              "      <td>0.767327</td>\n",
              "      <td>0.5</td>\n",
              "      <td>0.483871</td>\n",
              "      <td>0.666667</td>\n",
              "    </tr>\n",
              "    <tr>\n",
              "      <th>255</th>\n",
              "      <td>0.688312</td>\n",
              "      <td>0.5</td>\n",
              "      <td>0.75</td>\n",
              "      <td>0.60</td>\n",
              "      <td>0.454395</td>\n",
              "      <td>0.0</td>\n",
              "      <td>0.666667</td>\n",
              "      <td>0.643564</td>\n",
              "      <td>0.5</td>\n",
              "      <td>0.000000</td>\n",
              "      <td>1.000000</td>\n",
              "    </tr>\n",
              "    <tr>\n",
              "      <th>815</th>\n",
              "      <td>0.883117</td>\n",
              "      <td>1.0</td>\n",
              "      <td>0.75</td>\n",
              "      <td>0.59</td>\n",
              "      <td>0.459370</td>\n",
              "      <td>0.0</td>\n",
              "      <td>0.666667</td>\n",
              "      <td>0.747525</td>\n",
              "      <td>0.5</td>\n",
              "      <td>0.161290</td>\n",
              "      <td>1.000000</td>\n",
              "    </tr>\n",
              "    <tr>\n",
              "      <th>...</th>\n",
              "      <td>...</td>\n",
              "      <td>...</td>\n",
              "      <td>...</td>\n",
              "      <td>...</td>\n",
              "      <td>...</td>\n",
              "      <td>...</td>\n",
              "      <td>...</td>\n",
              "      <td>...</td>\n",
              "      <td>...</td>\n",
              "      <td>...</td>\n",
              "      <td>...</td>\n",
              "    </tr>\n",
              "    <tr>\n",
              "      <th>400</th>\n",
              "      <td>0.649351</td>\n",
              "      <td>0.5</td>\n",
              "      <td>0.25</td>\n",
              "      <td>0.80</td>\n",
              "      <td>0.000000</td>\n",
              "      <td>1.0</td>\n",
              "      <td>0.666667</td>\n",
              "      <td>0.544554</td>\n",
              "      <td>0.5</td>\n",
              "      <td>0.000000</td>\n",
              "      <td>0.666667</td>\n",
              "    </tr>\n",
              "    <tr>\n",
              "      <th>524</th>\n",
              "      <td>0.714286</td>\n",
              "      <td>1.0</td>\n",
              "      <td>0.25</td>\n",
              "      <td>0.75</td>\n",
              "      <td>0.265340</td>\n",
              "      <td>0.0</td>\n",
              "      <td>1.000000</td>\n",
              "      <td>0.742574</td>\n",
              "      <td>0.5</td>\n",
              "      <td>0.000000</td>\n",
              "      <td>1.000000</td>\n",
              "    </tr>\n",
              "    <tr>\n",
              "      <th>652</th>\n",
              "      <td>0.766234</td>\n",
              "      <td>1.0</td>\n",
              "      <td>1.00</td>\n",
              "      <td>0.80</td>\n",
              "      <td>0.452736</td>\n",
              "      <td>0.0</td>\n",
              "      <td>0.333333</td>\n",
              "      <td>0.618812</td>\n",
              "      <td>0.5</td>\n",
              "      <td>0.000000</td>\n",
              "      <td>1.000000</td>\n",
              "    </tr>\n",
              "    <tr>\n",
              "      <th>287</th>\n",
              "      <td>0.688312</td>\n",
              "      <td>1.0</td>\n",
              "      <td>0.50</td>\n",
              "      <td>0.60</td>\n",
              "      <td>0.300166</td>\n",
              "      <td>0.0</td>\n",
              "      <td>0.666667</td>\n",
              "      <td>0.653465</td>\n",
              "      <td>0.5</td>\n",
              "      <td>0.000000</td>\n",
              "      <td>1.000000</td>\n",
              "    </tr>\n",
              "    <tr>\n",
              "      <th>790</th>\n",
              "      <td>0.805195</td>\n",
              "      <td>0.5</td>\n",
              "      <td>0.25</td>\n",
              "      <td>0.69</td>\n",
              "      <td>0.487562</td>\n",
              "      <td>1.0</td>\n",
              "      <td>0.666667</td>\n",
              "      <td>0.524752</td>\n",
              "      <td>0.5</td>\n",
              "      <td>0.306452</td>\n",
              "      <td>0.666667</td>\n",
              "    </tr>\n",
              "  </tbody>\n",
              "</table>\n",
              "<p>734 rows × 11 columns</p>\n",
              "</div>"
            ],
            "text/plain": [
              "          Age  Sex  ChestPainType  ...  ExerciseAngina   Oldpeak  ST_Slope\n",
              "671  0.792208  1.0           0.25  ...             1.0  0.580645  0.666667\n",
              "905  0.870130  1.0           0.75  ...             0.5  0.129032  0.666667\n",
              "863  0.779221  1.0           0.75  ...             0.5  0.483871  0.666667\n",
              "255  0.688312  0.5           0.75  ...             0.5  0.000000  1.000000\n",
              "815  0.883117  1.0           0.75  ...             0.5  0.161290  1.000000\n",
              "..        ...  ...            ...  ...             ...       ...       ...\n",
              "400  0.649351  0.5           0.25  ...             0.5  0.000000  0.666667\n",
              "524  0.714286  1.0           0.25  ...             0.5  0.000000  1.000000\n",
              "652  0.766234  1.0           1.00  ...             0.5  0.000000  1.000000\n",
              "287  0.688312  1.0           0.50  ...             0.5  0.000000  1.000000\n",
              "790  0.805195  0.5           0.25  ...             0.5  0.306452  0.666667\n",
              "\n",
              "[734 rows x 11 columns]"
            ]
          },
          "metadata": {},
          "execution_count": 153
        }
      ]
    },
    {
      "cell_type": "code",
      "source": [
        "x_test"
      ],
      "metadata": {
        "colab": {
          "base_uri": "https://localhost:8080/",
          "height": 424
        },
        "id": "YozIB9TSpXhn",
        "outputId": "ab6de951-15f1-4439-cfe7-80a317080b63"
      },
      "id": "YozIB9TSpXhn",
      "execution_count": 173,
      "outputs": [
        {
          "output_type": "execute_result",
          "data": {
            "text/html": [
              "<div>\n",
              "<style scoped>\n",
              "    .dataframe tbody tr th:only-of-type {\n",
              "        vertical-align: middle;\n",
              "    }\n",
              "\n",
              "    .dataframe tbody tr th {\n",
              "        vertical-align: top;\n",
              "    }\n",
              "\n",
              "    .dataframe thead th {\n",
              "        text-align: right;\n",
              "    }\n",
              "</style>\n",
              "<table border=\"1\" class=\"dataframe\">\n",
              "  <thead>\n",
              "    <tr style=\"text-align: right;\">\n",
              "      <th></th>\n",
              "      <th>Age</th>\n",
              "      <th>Sex</th>\n",
              "      <th>ChestPainType</th>\n",
              "      <th>RestingBP</th>\n",
              "      <th>Cholesterol</th>\n",
              "      <th>FastingBS</th>\n",
              "      <th>RestingECG</th>\n",
              "      <th>MaxHR</th>\n",
              "      <th>ExerciseAngina</th>\n",
              "      <th>Oldpeak</th>\n",
              "      <th>ST_Slope</th>\n",
              "    </tr>\n",
              "  </thead>\n",
              "  <tbody>\n",
              "    <tr>\n",
              "      <th>547</th>\n",
              "      <td>0.792208</td>\n",
              "      <td>1.0</td>\n",
              "      <td>1.00</td>\n",
              "      <td>0.710</td>\n",
              "      <td>0.331675</td>\n",
              "      <td>1.0</td>\n",
              "      <td>1.000000</td>\n",
              "      <td>0.495050</td>\n",
              "      <td>0.5</td>\n",
              "      <td>0.241935</td>\n",
              "      <td>0.333333</td>\n",
              "    </tr>\n",
              "    <tr>\n",
              "      <th>58</th>\n",
              "      <td>0.701299</td>\n",
              "      <td>1.0</td>\n",
              "      <td>0.25</td>\n",
              "      <td>0.750</td>\n",
              "      <td>0.605307</td>\n",
              "      <td>0.0</td>\n",
              "      <td>1.000000</td>\n",
              "      <td>0.663366</td>\n",
              "      <td>0.5</td>\n",
              "      <td>0.161290</td>\n",
              "      <td>1.000000</td>\n",
              "    </tr>\n",
              "    <tr>\n",
              "      <th>128</th>\n",
              "      <td>0.701299</td>\n",
              "      <td>0.5</td>\n",
              "      <td>0.50</td>\n",
              "      <td>0.600</td>\n",
              "      <td>0.381426</td>\n",
              "      <td>1.0</td>\n",
              "      <td>0.666667</td>\n",
              "      <td>0.693069</td>\n",
              "      <td>0.5</td>\n",
              "      <td>0.000000</td>\n",
              "      <td>1.000000</td>\n",
              "    </tr>\n",
              "    <tr>\n",
              "      <th>176</th>\n",
              "      <td>0.701299</td>\n",
              "      <td>1.0</td>\n",
              "      <td>0.25</td>\n",
              "      <td>0.700</td>\n",
              "      <td>0.358209</td>\n",
              "      <td>0.0</td>\n",
              "      <td>0.666667</td>\n",
              "      <td>0.519802</td>\n",
              "      <td>0.5</td>\n",
              "      <td>0.241935</td>\n",
              "      <td>0.666667</td>\n",
              "    </tr>\n",
              "    <tr>\n",
              "      <th>767</th>\n",
              "      <td>0.701299</td>\n",
              "      <td>0.5</td>\n",
              "      <td>0.75</td>\n",
              "      <td>0.540</td>\n",
              "      <td>0.442786</td>\n",
              "      <td>0.0</td>\n",
              "      <td>0.333333</td>\n",
              "      <td>0.826733</td>\n",
              "      <td>0.5</td>\n",
              "      <td>0.000000</td>\n",
              "      <td>1.000000</td>\n",
              "    </tr>\n",
              "    <tr>\n",
              "      <th>...</th>\n",
              "      <td>...</td>\n",
              "      <td>...</td>\n",
              "      <td>...</td>\n",
              "      <td>...</td>\n",
              "      <td>...</td>\n",
              "      <td>...</td>\n",
              "      <td>...</td>\n",
              "      <td>...</td>\n",
              "      <td>...</td>\n",
              "      <td>...</td>\n",
              "      <td>...</td>\n",
              "    </tr>\n",
              "    <tr>\n",
              "      <th>555</th>\n",
              "      <td>0.753247</td>\n",
              "      <td>1.0</td>\n",
              "      <td>0.75</td>\n",
              "      <td>0.750</td>\n",
              "      <td>0.363184</td>\n",
              "      <td>0.0</td>\n",
              "      <td>1.000000</td>\n",
              "      <td>0.584158</td>\n",
              "      <td>1.0</td>\n",
              "      <td>0.000000</td>\n",
              "      <td>0.666667</td>\n",
              "    </tr>\n",
              "    <tr>\n",
              "      <th>557</th>\n",
              "      <td>0.727273</td>\n",
              "      <td>1.0</td>\n",
              "      <td>0.75</td>\n",
              "      <td>0.685</td>\n",
              "      <td>0.344942</td>\n",
              "      <td>1.0</td>\n",
              "      <td>1.000000</td>\n",
              "      <td>0.603960</td>\n",
              "      <td>1.0</td>\n",
              "      <td>0.290323</td>\n",
              "      <td>0.666667</td>\n",
              "    </tr>\n",
              "    <tr>\n",
              "      <th>206</th>\n",
              "      <td>0.454545</td>\n",
              "      <td>1.0</td>\n",
              "      <td>0.50</td>\n",
              "      <td>0.600</td>\n",
              "      <td>0.510779</td>\n",
              "      <td>0.0</td>\n",
              "      <td>0.333333</td>\n",
              "      <td>0.891089</td>\n",
              "      <td>0.5</td>\n",
              "      <td>0.000000</td>\n",
              "      <td>1.000000</td>\n",
              "    </tr>\n",
              "    <tr>\n",
              "      <th>276</th>\n",
              "      <td>0.662338</td>\n",
              "      <td>1.0</td>\n",
              "      <td>0.75</td>\n",
              "      <td>0.675</td>\n",
              "      <td>0.265340</td>\n",
              "      <td>0.0</td>\n",
              "      <td>0.666667</td>\n",
              "      <td>0.742574</td>\n",
              "      <td>0.5</td>\n",
              "      <td>0.322581</td>\n",
              "      <td>0.666667</td>\n",
              "    </tr>\n",
              "    <tr>\n",
              "      <th>640</th>\n",
              "      <td>0.623377</td>\n",
              "      <td>0.5</td>\n",
              "      <td>0.75</td>\n",
              "      <td>0.650</td>\n",
              "      <td>0.456053</td>\n",
              "      <td>0.0</td>\n",
              "      <td>0.666667</td>\n",
              "      <td>0.688119</td>\n",
              "      <td>0.5</td>\n",
              "      <td>0.032258</td>\n",
              "      <td>1.000000</td>\n",
              "    </tr>\n",
              "  </tbody>\n",
              "</table>\n",
              "<p>184 rows × 11 columns</p>\n",
              "</div>"
            ],
            "text/plain": [
              "          Age  Sex  ChestPainType  ...  ExerciseAngina   Oldpeak  ST_Slope\n",
              "547  0.792208  1.0           1.00  ...             0.5  0.241935  0.333333\n",
              "58   0.701299  1.0           0.25  ...             0.5  0.161290  1.000000\n",
              "128  0.701299  0.5           0.50  ...             0.5  0.000000  1.000000\n",
              "176  0.701299  1.0           0.25  ...             0.5  0.241935  0.666667\n",
              "767  0.701299  0.5           0.75  ...             0.5  0.000000  1.000000\n",
              "..        ...  ...            ...  ...             ...       ...       ...\n",
              "555  0.753247  1.0           0.75  ...             1.0  0.000000  0.666667\n",
              "557  0.727273  1.0           0.75  ...             1.0  0.290323  0.666667\n",
              "206  0.454545  1.0           0.50  ...             0.5  0.000000  1.000000\n",
              "276  0.662338  1.0           0.75  ...             0.5  0.322581  0.666667\n",
              "640  0.623377  0.5           0.75  ...             0.5  0.032258  1.000000\n",
              "\n",
              "[184 rows x 11 columns]"
            ]
          },
          "metadata": {},
          "execution_count": 173
        }
      ]
    },
    {
      "cell_type": "code",
      "source": [
        "y_preds_1 = rs.predict([[1,1,0.7,0.33,1,1,1,0.49,0.5,0.24,0.33]])"
      ],
      "metadata": {
        "colab": {
          "base_uri": "https://localhost:8080/"
        },
        "id": "j3eKQ47AmGbC",
        "outputId": "81652b3f-e4db-4571-9c66-2d3d29ffb0e9"
      },
      "id": "j3eKQ47AmGbC",
      "execution_count": 177,
      "outputs": [
        {
          "output_type": "stream",
          "name": "stderr",
          "text": [
            "/usr/local/lib/python3.7/dist-packages/sklearn/base.py:446: UserWarning: X does not have valid feature names, but RandomForestClassifier was fitted with feature names\n",
            "  \"X does not have valid feature names, but\"\n"
          ]
        }
      ]
    },
    {
      "cell_type": "code",
      "source": [
        "y_preds_1"
      ],
      "metadata": {
        "colab": {
          "base_uri": "https://localhost:8080/"
        },
        "id": "BHDp8iQvnGPr",
        "outputId": "9425a7ed-aa6c-44a9-a7cb-f8c6671c674b"
      },
      "id": "BHDp8iQvnGPr",
      "execution_count": 178,
      "outputs": [
        {
          "output_type": "execute_result",
          "data": {
            "text/plain": [
              "array([1.])"
            ]
          },
          "metadata": {},
          "execution_count": 178
        }
      ]
    },
    {
      "cell_type": "code",
      "source": [
        "y_preds = rs.predict(x_test)"
      ],
      "metadata": {
        "id": "JqHap_wLp5xb"
      },
      "id": "JqHap_wLp5xb",
      "execution_count": 181,
      "outputs": []
    },
    {
      "cell_type": "code",
      "source": [
        "count = 0\n",
        "x = 0\n",
        "for i in y_test:\n",
        "  if i == y_preds[x]:\n",
        "    count += 1\n",
        "  x += 1\n",
        "print(f\"Accuracy Acheived: {count/184*100:.2f}%\")"
      ],
      "metadata": {
        "colab": {
          "base_uri": "https://localhost:8080/"
        },
        "id": "Rf9Lfp_ymlqA",
        "outputId": "f5364f53-f509-4ae3-c043-adb011f6cbdd"
      },
      "id": "Rf9Lfp_ymlqA",
      "execution_count": 191,
      "outputs": [
        {
          "output_type": "stream",
          "name": "stdout",
          "text": [
            "Accuracy Acheived: 90.76%\n"
          ]
        }
      ]
    },
    {
      "cell_type": "code",
      "source": [
        ""
      ],
      "metadata": {
        "id": "BnQrW1yyyF_S"
      },
      "id": "BnQrW1yyyF_S",
      "execution_count": null,
      "outputs": []
    }
  ],
  "metadata": {
    "kernelspec": {
      "display_name": "Python 3 (ipykernel)",
      "language": "python",
      "name": "python3"
    },
    "language_info": {
      "codemirror_mode": {
        "name": "ipython",
        "version": 3
      },
      "file_extension": ".py",
      "mimetype": "text/x-python",
      "name": "python",
      "nbconvert_exporter": "python",
      "pygments_lexer": "ipython3",
      "version": "3.9.7"
    },
    "colab": {
      "name": "Heart_Failure.ipynb",
      "provenance": [],
      "collapsed_sections": []
    }
  },
  "nbformat": 4,
  "nbformat_minor": 5
}